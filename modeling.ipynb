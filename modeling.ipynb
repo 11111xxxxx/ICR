{
 "cells": [
  {
   "cell_type": "markdown",
   "metadata": {},
   "source": [
    "# Load libraries "
   ]
  },
  {
   "cell_type": "code",
   "execution_count": 5,
   "metadata": {},
   "outputs": [],
   "source": [
    "import pandas as pd\n",
    "import numpy as np\n",
    "import xgboost as xgb\n",
    "from xgboost.sklearn import XGBClassifier\n",
    "from sklearn.model_selection import RandomizedSearchCV\n",
    "from sklearn.model_selection import GridSearchCV\n",
    "from sklearn.model_selection import train_test_split\n",
    "\n",
    "import matplotlib.pylab as plt\n",
    "%matplotlib inline\n",
    "from matplotlib.pylab import rcParams\n",
    "rcParams['figure.figsize'] = 12, 4"
   ]
  },
  {
   "cell_type": "markdown",
   "metadata": {},
   "source": [
    "# 1. Load Data"
   ]
  },
  {
   "cell_type": "code",
   "execution_count": 143,
   "metadata": {},
   "outputs": [],
   "source": [
    "train = pd.read_csv(\"train.csv\")\n",
    "test = pd.read_csv(\"test.csv\")\n"
   ]
  },
  {
   "cell_type": "markdown",
   "metadata": {},
   "source": [
    "### Missing values "
   ]
  },
  {
   "cell_type": "code",
   "execution_count": 144,
   "metadata": {},
   "outputs": [],
   "source": []
  },
  {
   "cell_type": "markdown",
   "metadata": {},
   "source": [
    "### Convert the categorical variable to numerical variable "
   ]
  },
  {
   "cell_type": "markdown",
   "metadata": {},
   "source": [
    "The categorical variable 'EJ' is converted into two dummy variables and we only need to keep one for modeling. We keep column 'A'.\n",
    "\n",
    "Rename the original 'train' data as 'train_new'"
   ]
  },
  {
   "cell_type": "code",
   "execution_count": 135,
   "metadata": {},
   "outputs": [],
   "source": [
    "def con_dum(df,new_df):\n",
    "    dummies= pd.get_dummies(df.EJ)\n",
    "    dummies = dummies.A\n",
    "    \n",
    "    # column bind the new dummy df to the original train data \n",
    "    new_df = pd.concat([df, dummies], axis=1)\n",
    "    \n",
    "    # drop original categorical column 'EJ'\n",
    "    new_df = new_df.drop(['EJ'], axis=1) "
   ]
  },
  {
   "cell_type": "code",
   "execution_count": 101,
   "metadata": {},
   "outputs": [],
   "source": [
    "# a function to check if the original column still there or not \n",
    "def check(col,df):\n",
    "   if col in df:\n",
    "      print (\"Column\", col, \"exists in the DataFrame.\")\n",
    "   else:\n",
    "      print (\"Column\", col, \"does not exist in the DataFrame.\")\n"
   ]
  },
  {
   "cell_type": "code",
   "execution_count": 145,
   "metadata": {},
   "outputs": [],
   "source": [
    "# generate a dummy column 'A' for train data and name the df as 'train_new'\n",
    "con_dum(train,train_new)"
   ]
  },
  {
   "cell_type": "code",
   "execution_count": 147,
   "metadata": {},
   "outputs": [
    {
     "name": "stdout",
     "output_type": "stream",
     "text": [
      "Column EJ does not exist in the DataFrame.\n"
     ]
    }
   ],
   "source": [
    "# repeat the same process for test data \n",
    "\n",
    "dummies= pd.get_dummies(test.EJ)\n",
    "dummies = dummies.A\n",
    "\n",
    "# column bind the new dummy df to the original train data \n",
    "test_new = pd.concat([test, dummies], axis=1)\n",
    "    \n",
    "# drop original categorical column 'EJ'\n",
    "test_new = test_new.drop(['EJ'], axis=1) \n",
    "\n",
    "# check if EJ still exists in the new train dataset or not \n",
    "col = 'EJ'\n",
    "df= test_new\n",
    "\n",
    "check(col,df)"
   ]
  },
  {
   "cell_type": "markdown",
   "metadata": {},
   "source": [
    "# Deal with missing values "
   ]
  },
  {
   "cell_type": "code",
   "execution_count": 152,
   "metadata": {},
   "outputs": [],
   "source": [
    "# replace the NaN with mean for all features with missing values \n",
    "dtrain = train_new.fillna(train_new.median()) \n",
    "dtest = test_new.fillna(test_new.median()) "
   ]
  },
  {
   "cell_type": "code",
   "execution_count": 155,
   "metadata": {},
   "outputs": [],
   "source": [
    "# print(dtest.isnull().sum()) # there are multiple features that have missing values \n"
   ]
  },
  {
   "cell_type": "markdown",
   "metadata": {},
   "source": [
    "### Datasets that are ready for use are 'train_new' and 'test_new'\n"
   ]
  },
  {
   "cell_type": "markdown",
   "metadata": {},
   "source": [
    "# 2. Splitting Data into train and test"
   ]
  },
  {
   "cell_type": "code",
   "execution_count": 208,
   "metadata": {},
   "outputs": [],
   "source": [
    "target = dtrain[['Class']]\n",
    "attributes = dtrain.drop(['Class','Id'], axis = 1)"
   ]
  },
  {
   "cell_type": "code",
   "execution_count": 209,
   "metadata": {},
   "outputs": [],
   "source": [
    "from sklearn.model_selection import train_test_split\n",
    "from sklearn.preprocessing import StandardScaler"
   ]
  },
  {
   "cell_type": "code",
   "execution_count": 157,
   "metadata": {},
   "outputs": [],
   "source": [
    "X = attributes\n",
    "y = target\n",
    "#training set = 75% testing set = 25%\n",
    "X_train, X_test, y_train, y_test = train_test_split(X, np.ravel(y), test_size = 0.25, random_state = 10)"
   ]
  },
  {
   "cell_type": "code",
   "execution_count": 158,
   "metadata": {},
   "outputs": [
    {
     "name": "stdout",
     "output_type": "stream",
     "text": [
      "(462, 56) (462,)\n"
     ]
    }
   ],
   "source": [
    "print(X_train.shape, y_train.shape)"
   ]
  },
  {
   "cell_type": "code",
   "execution_count": 159,
   "metadata": {},
   "outputs": [
    {
     "name": "stdout",
     "output_type": "stream",
     "text": [
      "(155, 56) (155,)\n"
     ]
    }
   ],
   "source": [
    "print(X_test.shape, y_test.shape)"
   ]
  },
  {
   "cell_type": "markdown",
   "metadata": {},
   "source": [
    "During EDA the different features were identified to vary significantly in scale. As a consequence the training and the testing set for this model will be scaled prior to fitting and prediticting."
   ]
  },
  {
   "cell_type": "code",
   "execution_count": 160,
   "metadata": {},
   "outputs": [],
   "source": [
    "# assuming data is normally distributed\n",
    "scaler = StandardScaler()\n",
    "scaler.fit(X_train)\n",
    "X_train_scaled = scaler.transform(X_train)\n",
    "X_test_scaled = scaler.transform(X_test)"
   ]
  },
  {
   "cell_type": "markdown",
   "metadata": {},
   "source": [
    "# 4. Training"
   ]
  },
  {
   "cell_type": "markdown",
   "metadata": {},
   "source": [
    "### Import libraries for evaluating data"
   ]
  },
  {
   "cell_type": "code",
   "execution_count": 84,
   "metadata": {},
   "outputs": [],
   "source": [
    "from sklearn.metrics import accuracy_score, classification_report, confusion_matrix, matthews_corrcoef, roc_auc_score, roc_curve\n",
    "from sklearn.model_selection import GridSearchCV, cross_validate, learning_curve, validation_curve, RandomizedSearchCV, StratifiedKFold\n",
    "#from bayes_opt import BayesianOptimization\n",
    "from sklearn.pipeline import make_pipeline\n",
    "from sklearn.feature_selection import SelectKBest"
   ]
  },
  {
   "cell_type": "markdown",
   "metadata": {},
   "source": [
    "## 4.1 Dummy Classifier"
   ]
  },
  {
   "cell_type": "code",
   "execution_count": 85,
   "metadata": {},
   "outputs": [],
   "source": [
    "from sklearn.dummy import DummyClassifier"
   ]
  },
  {
   "cell_type": "markdown",
   "metadata": {},
   "source": [
    "model_dummy = DummyClassifier(random_state=100)\n",
    "model_dummy.fit(X_train_scaled, y_train)\n",
    "print('Confusion Matrix: \\n', confusion_matrix(y_test, model_dummy.predict(X_test_scaled)))\n",
    "print('Classification Report: ', classification_report(y_test, model_dummy.predict(X_test_scaled)))\n",
    "#print('MCC: ', matthews_corrcoef(y_test, model_dummy.predict(X_test)));\n"
   ]
  },
  {
   "cell_type": "markdown",
   "metadata": {},
   "source": [
    "# Comments\n",
    "The dummy classifier gives an accuracy score of 73%. This is a baseline score to compare suitable models to."
   ]
  },
  {
   "cell_type": "markdown",
   "metadata": {},
   "source": [
    "## 4.2 Logistic Regression "
   ]
  },
  {
   "cell_type": "markdown",
   "metadata": {},
   "source": [
    "### 4.2.1 Logistic Regression "
   ]
  },
  {
   "cell_type": "code",
   "execution_count": 93,
   "metadata": {},
   "outputs": [],
   "source": [
    "from sklearn.linear_model import LogisticRegression"
   ]
  },
  {
   "cell_type": "code",
   "execution_count": 162,
   "metadata": {},
   "outputs": [],
   "source": [
    "model_log = LogisticRegression(random_state = 10)\n",
    "model_log.fit(X_train_scaled, y_train)\n",
    "predictions_log = model_log.predict(X_test_scaled)"
   ]
  },
  {
   "cell_type": "code",
   "execution_count": 163,
   "metadata": {},
   "outputs": [
    {
     "name": "stdout",
     "output_type": "stream",
     "text": [
      "Confusion Matrix: \n",
      " [[129   6]\n",
      " [  7  13]]\n",
      "Classification Report: \n",
      "               precision    recall  f1-score   support\n",
      "\n",
      "           0       0.95      0.96      0.95       135\n",
      "           1       0.68      0.65      0.67        20\n",
      "\n",
      "    accuracy                           0.92       155\n",
      "   macro avg       0.82      0.80      0.81       155\n",
      "weighted avg       0.91      0.92      0.92       155\n",
      "\n",
      "MCC:  0.618998533703047\n"
     ]
    }
   ],
   "source": [
    "print('Confusion Matrix: \\n',confusion_matrix(y_test, predictions_log))\n",
    "print('Classification Report: \\n',classification_report(y_test, predictions_log))\n",
    "print('MCC: ',matthews_corrcoef(y_test, predictions_log))\n"
   ]
  },
  {
   "cell_type": "markdown",
   "metadata": {},
   "source": [
    "# Comments --- need to be revised \n",
    "Ths is already a pretty accurate model- we have accuracy, f1 score, percision, and recall are in the 90s. However, the number of false positives are lower than the false negatives. As the aim is find a model which will have a high accuracy level for classifying malignant tumours whilst ensuring a higher false positive rate than a false negative rate, we are going to try hyperparameter tuning to see if we can improve the false positive rate."
   ]
  },
  {
   "cell_type": "markdown",
   "metadata": {},
   "source": [
    "### 4.2.2 Hyperparameter Tuning"
   ]
  },
  {
   "cell_type": "code",
   "execution_count": 165,
   "metadata": {},
   "outputs": [
    {
     "name": "stdout",
     "output_type": "stream",
     "text": [
      "Best parameters  {'C': 0.1, 'penalty': 'l2', 'solver': 'liblinear'}\n"
     ]
    }
   ],
   "source": [
    "# Grid search cross validation\n",
    "from sklearn.model_selection import GridSearchCV\n",
    "from sklearn.linear_model import LogisticRegression\n",
    "#GridSearch can set off a lot of warnings that are not necessarily important \n",
    "import warnings\n",
    "warnings.filterwarnings('ignore') \n",
    "\n",
    "parameters ={\"C\":np.logspace(-3,3,7), \"penalty\":[\"l1\",\"l2\"], 'solver'  : ['newton-cg', 'lbfgs', 'liblinear']}# l1 lasso l2 ridge\n",
    "model_log=LogisticRegression(random_state = 10)\n",
    "model_log_grid=GridSearchCV(model_log,parameters,cv=10)\n",
    "model_log_grid.fit(X_train_scaled,y_train)\n",
    "predictions_logreg_grid = model_log_grid.predict(X_test_scaled)\n",
    "\n",
    "print(\"Best parameters \",model_log_grid.best_params_)"
   ]
  },
  {
   "cell_type": "markdown",
   "metadata": {},
   "source": [
    "### 4.2.3 Logistic Regression with best parameters"
   ]
  },
  {
   "cell_type": "code",
   "execution_count": 167,
   "metadata": {},
   "outputs": [
    {
     "name": "stdout",
     "output_type": "stream",
     "text": [
      "Confusion Matrix: \n",
      " [[130   5]\n",
      " [  7  13]]\n",
      "Classification Report: \n",
      "               precision    recall  f1-score   support\n",
      "\n",
      "           0       0.95      0.96      0.96       135\n",
      "           1       0.72      0.65      0.68        20\n",
      "\n",
      "    accuracy                           0.92       155\n",
      "   macro avg       0.84      0.81      0.82       155\n",
      "weighted avg       0.92      0.92      0.92       155\n",
      "\n",
      "MCC:  0.6413861533983793\n"
     ]
    }
   ],
   "source": [
    "model_log_best_params = LogisticRegression(random_state = 10, solver='liblinear', penalty='l2', C=0.1)\n",
    "model_log_best_params.fit(X_train_scaled, y_train)\n",
    "predictions_logBest = model_log_best_params.predict(X_test_scaled)\n",
    "print('Confusion Matrix: \\n',confusion_matrix(y_test,predictions_logBest))\n",
    "print('Classification Report: \\n', classification_report(y_test, predictions_logBest))\n",
    "print('MCC: ', matthews_corrcoef(y_test, predictions_logBest))\n"
   ]
  },
  {
   "cell_type": "markdown",
   "metadata": {},
   "source": [
    "# Comments --- need to be revised \n",
    "We do see general improvements, however we still have a higher flase negative rate than false negative."
   ]
  },
  {
   "cell_type": "code",
   "execution_count": 168,
   "metadata": {},
   "outputs": [
    {
     "data": {
      "image/png": "[encoded data removed]",
      "text/plain": [
       "<Figure size 720x432 with 1 Axes>"
      ]
     },
     "metadata": {
      "needs_background": "light"
     },
     "output_type": "display_data"
    },
    {
     "name": "stdout",
     "output_type": "stream",
     "text": [
      "Area Under Curve:  0.9018518518518519\n"
     ]
    }
   ],
   "source": [
    "# fpr, tpr, thresholds = roc_curve(y_test, y_pred_prob)\n",
    "y_pred_prob = model_log_best_params.predict_proba(X_test_scaled)[:,1]\n",
    "fpr, tpr, thresholds = roc_curve(y_test, y_pred_prob)\n",
    "auc = roc_auc_score(y_test, y_pred_prob)\n",
    "plt.figure(figsize=(10,6))\n",
    "plt.plot(fpr, tpr)\n",
    "plt.xlabel('False Positive Rate')\n",
    "plt.ylabel('True Positive Rate')\n",
    "plt.title('ROC')\n",
    "plt.show()\n",
    "print('Area Under Curve: ',auc)"
   ]
  },
  {
   "cell_type": "markdown",
   "metadata": {},
   "source": [
    "# 4.3 Random Forest Classifier"
   ]
  },
  {
   "cell_type": "markdown",
   "metadata": {},
   "source": [
    "## 4.3.1 Random Forest Classifier"
   ]
  },
  {
   "cell_type": "code",
   "execution_count": 171,
   "metadata": {},
   "outputs": [],
   "source": [
    "from sklearn.ensemble import RandomForestClassifier\n",
    "from sklearn import tree\n",
    "import graphviz"
   ]
  },
  {
   "cell_type": "code",
   "execution_count": 172,
   "metadata": {},
   "outputs": [],
   "source": [
    "X = attributes\n",
    "y = target\n",
    "X_train, X_test, y_train, y_test = train_test_split(X, np.ravel(y), test_size = 0.25, random_state = 10)\n"
   ]
  },
  {
   "cell_type": "code",
   "execution_count": 173,
   "metadata": {},
   "outputs": [],
   "source": [
    "model_rfc = RandomForestClassifier(n_estimators = 10, random_state = 10)\n",
    "model_rfc.fit(X_train, y_train)\n",
    "predictions_rfc = model_rfc.predict(X_test)"
   ]
  },
  {
   "cell_type": "code",
   "execution_count": 175,
   "metadata": {},
   "outputs": [
    {
     "name": "stdout",
     "output_type": "stream",
     "text": [
      "Confusion Matrix: \n",
      " [[131   4]\n",
      " [  8  12]]\n",
      "Classification Report: \n",
      "               precision    recall  f1-score   support\n",
      "\n",
      "           0       0.94      0.97      0.96       135\n",
      "           1       0.75      0.60      0.67        20\n",
      "\n",
      "    accuracy                           0.92       155\n",
      "   macro avg       0.85      0.79      0.81       155\n",
      "weighted avg       0.92      0.92      0.92       155\n",
      "\n",
      "MCC:  0.6284510371554693\n"
     ]
    }
   ],
   "source": [
    "print('Confusion Matrix: \\n',confusion_matrix(y_test, predictions_rfc))\n",
    "print('Classification Report: \\n',classification_report(y_test, predictions_rfc))\n",
    "print('MCC: ',matthews_corrcoef(y_test, predictions_rfc))\n"
   ]
  },
  {
   "cell_type": "markdown",
   "metadata": {},
   "source": [
    "### Comments \n",
    "A pretty good start! Let's see if we can improve false positive rate by hyperparameter tuning."
   ]
  },
  {
   "cell_type": "markdown",
   "metadata": {},
   "source": [
    "## 4.3.2 Hyperparameters Tuning Through GridSearch"
   ]
  },
  {
   "cell_type": "code",
   "execution_count": 177,
   "metadata": {},
   "outputs": [
    {
     "data": {
      "text/plain": [
       "GridSearchCV(cv=10, estimator=RandomForestClassifier(random_state=10),\n",
       "             param_grid={'max_depth': array([1, 2, 3, 4, 5, 6, 7, 8, 9]),\n",
       "                         'n_estimators': array([ 1,  2,  3,  4,  5,  6,  7,  8,  9, 10, 11, 12, 13, 14, 15, 16, 17,\n",
       "       18, 19, 20, 21, 22, 23, 24, 25, 26, 27, 28, 29, 30, 31, 32, 33, 34,\n",
       "       35, 36, 37, 38, 39, 40, 41, 42, 43, 44, 45, 46, 47, 48, 49])})"
      ]
     },
     "execution_count": 177,
     "metadata": {},
     "output_type": "execute_result"
    }
   ],
   "source": [
    "parameters = {'n_estimators':np.arange(1,50), 'max_depth': np.arange(1,10)}\n",
    "model_rfc_grid = RandomForestClassifier(random_state = 10)\n",
    "model_rfc_grid_cv = GridSearchCV(model_rfc_grid, parameters, cv=10)\n",
    "model_rfc_grid_cv.fit(X_test, y_test)"
   ]
  },
  {
   "cell_type": "code",
   "execution_count": 178,
   "metadata": {},
   "outputs": [
    {
     "name": "stdout",
     "output_type": "stream",
     "text": [
      "{'max_depth': 7, 'n_estimators': 41}\n",
      "0.9170833333333335\n"
     ]
    }
   ],
   "source": [
    "print(model_rfc_grid_cv.best_params_)\n",
    "print(model_rfc_grid_cv.best_score_)"
   ]
  },
  {
   "cell_type": "markdown",
   "metadata": {},
   "source": [
    "## 4.3.3. Random Forest Model using hyperparameters from GridSearch"
   ]
  },
  {
   "cell_type": "code",
   "execution_count": 199,
   "metadata": {},
   "outputs": [],
   "source": [
    "model_rfc_best = RandomForestClassifier(n_estimators = 41, max_depth=7, random_state = 10)\n",
    "model_rfc_best.fit(X_train, y_train)\n",
    "predictions_rfc_best = model_rfc_best.predict(X_test)"
   ]
  },
  {
   "cell_type": "code",
   "execution_count": 200,
   "metadata": {},
   "outputs": [
    {
     "name": "stdout",
     "output_type": "stream",
     "text": [
      "[[132   3]\n",
      " [  9  11]]\n",
      "              precision    recall  f1-score   support\n",
      "\n",
      "           0       0.94      0.98      0.96       135\n",
      "           1       0.79      0.55      0.65        20\n",
      "\n",
      "    accuracy                           0.92       155\n",
      "   macro avg       0.86      0.76      0.80       155\n",
      "weighted avg       0.92      0.92      0.92       155\n",
      "\n",
      "0.6172475973384816\n"
     ]
    }
   ],
   "source": [
    "print(confusion_matrix(y_test, predictions_rfc_best))\n",
    "print(classification_report(y_test, predictions_rfc_best))\n",
    "print(matthews_corrcoef(y_test, predictions_rfc_best ))\n"
   ]
  },
  {
   "cell_type": "markdown",
   "metadata": {},
   "source": [
    "### Comments - to be revised\n",
    "The F1 score and accuracy are even lower than which wihtout the best hyperparameters "
   ]
  },
  {
   "cell_type": "code",
   "execution_count": 181,
   "metadata": {},
   "outputs": [
    {
     "data": {
      "image/png": "[encoded data removed]",
      "text/plain": [
       "<Figure size 1080x720 with 1 Axes>"
      ]
     },
     "metadata": {
      "needs_background": "light"
     },
     "output_type": "display_data"
    }
   ],
   "source": [
    "sorted_importances = model_rfc_best.feature_importances_.argsort()\n",
    "_ = plt.figure(figsize=(15,10))\n",
    "_ = plt.barh(attributes.columns[sorted_importances], model_rfc_best.feature_importances_[sorted_importances])\n",
    "_ = plt.title('Feature Importance using GridSearch for Hyperparameter Tuning')\n",
    "\n",
    "plt.show()"
   ]
  },
  {
   "cell_type": "code",
   "execution_count": 182,
   "metadata": {},
   "outputs": [],
   "source": [
    "from sklearn.inspection import permutation_importance\n",
    "permutation_importance = permutation_importance(model_rfc_best, X_test, y_test)\n"
   ]
  },
  {
   "cell_type": "code",
   "execution_count": 183,
   "metadata": {},
   "outputs": [
    {
     "data": {
      "image/png": "[encoded data removed]",
      "text/plain": [
       "<Figure size 1080x720 with 1 Axes>"
      ]
     },
     "metadata": {
      "needs_background": "light"
     },
     "output_type": "display_data"
    }
   ],
   "source": [
    "from sklearn.inspection import permutation_importance\n",
    "permutation_importance = permutation_importance(model_rfc_best, X_test, y_test)\n",
    "sorted_importances = permutation_importance.importances_mean.argsort()\n",
    "_ = plt.figure(figsize=(15,10))\n",
    "_ = plt.barh(attributes.columns[sorted_importances], permutation_importance.importances_mean[sorted_importances])\n",
    "_ = plt.title('Permutation Based Feature Importance')\n",
    "\n",
    "plt.show()"
   ]
  },
  {
   "cell_type": "code",
   "execution_count": 189,
   "metadata": {},
   "outputs": [],
   "source": [
    "# removing_features = attributes.drop(['DI', 'EH', 'GE','CC','GI','CS','AM','GF','AR','CF','EL'], axis = 1)\n",
    "\n",
    "removing_features = attributes.drop(['BZ','EU','CL','A'], axis = 1)"
   ]
  },
  {
   "cell_type": "code",
   "execution_count": 201,
   "metadata": {},
   "outputs": [
    {
     "name": "stdout",
     "output_type": "stream",
     "text": [
      "Confusion Matrix: \n",
      " [[132   3]\n",
      " [ 10  10]]\n",
      "Classification Report: \n",
      "               precision    recall  f1-score   support\n",
      "\n",
      "           0       0.93      0.98      0.95       135\n",
      "           1       0.77      0.50      0.61        20\n",
      "\n",
      "    accuracy                           0.92       155\n",
      "   macro avg       0.85      0.74      0.78       155\n",
      "weighted avg       0.91      0.92      0.91       155\n",
      "\n",
      "MCC: 0.5778192149302849\n"
     ]
    }
   ],
   "source": [
    "X = removing_features\n",
    "y = target\n",
    "X_train, X_test, y_train, y_test = train_test_split(X, np.ravel(y), test_size = 0.25, random_state = 10)\n",
    "model_rfc_removed_features = RandomForestClassifier(n_estimators = 41, max_depth=7, random_state = 10)\n",
    "model_rfc_removed_features.fit(X_train, y_train)\n",
    "predictions_rfc_removed_features = model_rfc_removed_features.predict(X_test)\n",
    "print('Confusion Matrix: \\n',confusion_matrix(y_test, predictions_rfc_removed_features))\n",
    "print('Classification Report: \\n',classification_report(y_test, predictions_rfc_removed_features))\n",
    "print('MCC:',matthews_corrcoef(y_test, predictions_rfc_removed_features))\n"
   ]
  },
  {
   "cell_type": "markdown",
   "metadata": {},
   "source": [
    "### Comments \n",
    "When the negative scored feautres are removed, we don't see a higher false positive score than false negative. "
   ]
  },
  {
   "cell_type": "markdown",
   "metadata": {},
   "source": [
    "# 4.4 Gradient Boosting Classifier"
   ]
  },
  {
   "cell_type": "code",
   "execution_count": 210,
   "metadata": {},
   "outputs": [],
   "source": [
    "from sklearn.ensemble import GradientBoostingClassifier\n",
    "X = attributes\n",
    "y = target\n",
    "X_train, X_test, y_train, y_test = train_test_split(X, np.ravel(y), test_size = 0.25, random_state = 10)"
   ]
  },
  {
   "cell_type": "markdown",
   "metadata": {},
   "source": [
    "## 4.4.1 Gradient Boosting Classifier"
   ]
  },
  {
   "cell_type": "code",
   "execution_count": 211,
   "metadata": {},
   "outputs": [],
   "source": [
    "model_gb = GradientBoostingClassifier(random_state = 10)\n",
    "model_gb.fit(X_train, y_train)\n",
    "predictions_gb = model_gb.predict(X_test)\n"
   ]
  },
  {
   "cell_type": "code",
   "execution_count": 212,
   "metadata": {},
   "outputs": [
    {
     "name": "stdout",
     "output_type": "stream",
     "text": [
      "[[130   5]\n",
      " [  6  14]]\n",
      "              precision    recall  f1-score   support\n",
      "\n",
      "           0       0.96      0.96      0.96       135\n",
      "           1       0.74      0.70      0.72        20\n",
      "\n",
      "    accuracy                           0.93       155\n",
      "   macro avg       0.85      0.83      0.84       155\n",
      "weighted avg       0.93      0.93      0.93       155\n",
      "\n",
      "0.6776803518828466\n"
     ]
    }
   ],
   "source": [
    "print(confusion_matrix(y_test, predictions_gb))\n",
    "print(classification_report(y_test, predictions_gb))\n",
    "print(matthews_corrcoef(y_test, predictions_gb))"
   ]
  },
  {
   "cell_type": "markdown",
   "metadata": {},
   "source": [
    "## 4.4.2 Hyperparameters Tuning"
   ]
  },
  {
   "cell_type": "code",
   "execution_count": 215,
   "metadata": {},
   "outputs": [],
   "source": [
    "from scipy.stats import uniform as sp_randFloat\n",
    "from scipy.stats import randint as sp_randInt\n",
    "parameters = {'learning_rate': sp_randFloat(), \n",
    "             'subsample': sp_randFloat(),\n",
    "             'n_estimators': sp_randInt(100,1000),\n",
    "             'max_depth': sp_randInt(4,10)}"
   ]
  },
  {
   "cell_type": "code",
   "execution_count": 216,
   "metadata": {},
   "outputs": [],
   "source": [
    "model_gb_cv = RandomizedSearchCV(GradientBoostingClassifier(random_state=10),\n",
    "                                 parameters,\n",
    "                                 random_state = 10, \n",
    "                                 cv=10, \n",
    "                                 n_iter=10, \n",
    "                                 n_jobs=-1)"
   ]
  },
  {
   "cell_type": "code",
   "execution_count": 217,
   "metadata": {},
   "outputs": [
    {
     "data": {
      "text/plain": [
       "RandomizedSearchCV(cv=10, estimator=GradientBoostingClassifier(random_state=10),\n",
       "                   n_jobs=-1,\n",
       "                   param_distributions={'learning_rate': <scipy.stats._distn_infrastructure.rv_frozen object at 0x000001C141659400>,\n",
       "                                        'max_depth': <scipy.stats._distn_infrastructure.rv_frozen object at 0x000001C141664A90>,\n",
       "                                        'n_estimators': <scipy.stats._distn_infrastructure.rv_frozen object at 0x000001C1412FBC10>,\n",
       "                                        'subsample': <scipy.stats._distn_infrastructure.rv_frozen object at 0x000001C141664A60>},\n",
       "                   random_state=10)"
      ]
     },
     "execution_count": 217,
     "metadata": {},
     "output_type": "execute_result"
    }
   ],
   "source": [
    "model_gb_cv.fit(X_train, y_train)"
   ]
  },
  {
   "cell_type": "code",
   "execution_count": 219,
   "metadata": {},
   "outputs": [],
   "source": [
    "predictions = model_gb_cv.predict(X_test)"
   ]
  },
  {
   "cell_type": "code",
   "execution_count": 220,
   "metadata": {},
   "outputs": [
    {
     "name": "stdout",
     "output_type": "stream",
     "text": [
      "GradientBoostingClassifier(learning_rate=0.03061665387269341, max_depth=8,\n",
      "                           n_estimators=789, random_state=10,\n",
      "                           subsample=0.9177741225129434)\n",
      "{'learning_rate': 0.03061665387269341, 'max_depth': 8, 'n_estimators': 789, 'subsample': 0.9177741225129434}\n",
      "0.9177613320999075\n"
     ]
    }
   ],
   "source": [
    "print(model_gb_cv.best_estimator_)\n",
    "print(model_gb_cv.best_params_)\n",
    "print(model_gb_cv.best_score_)"
   ]
  },
  {
   "cell_type": "markdown",
   "metadata": {},
   "source": [
    "## 4.4.3 Gradient Boosting with Optimal Parameteters"
   ]
  },
  {
   "cell_type": "code",
   "execution_count": 222,
   "metadata": {},
   "outputs": [
    {
     "name": "stdout",
     "output_type": "stream",
     "text": [
      "Confusion Matrix: \n",
      " [[130   5]\n",
      " [  6  14]]\n",
      "Classification Report: \n",
      "               precision    recall  f1-score   support\n",
      "\n",
      "           0       0.96      0.96      0.96       135\n",
      "           1       0.74      0.70      0.72        20\n",
      "\n",
      "    accuracy                           0.93       155\n",
      "   macro avg       0.85      0.83      0.84       155\n",
      "weighted avg       0.93      0.93      0.93       155\n",
      "\n",
      "MCC:  0.6776803518828466\n"
     ]
    }
   ],
   "source": [
    "model_gb_best = GradientBoostingClassifier(learning_rate =0.031,\n",
    "                                           max_depth = 8, \n",
    "                                           n_estimators = 789,\n",
    "                                           subsample = 0.9178,\n",
    "                                           random_state = 10)\n",
    "model_gb_best.fit(X_train, y_train)\n",
    "predictions_gbBest = model_gb_best.predict(X_test)\n",
    "print('Confusion Matrix: \\n', confusion_matrix(y_test, predictions_gbBest))\n",
    "print('Classification Report: \\n', classification_report(y_test, predictions_gbBest))\n",
    "print('MCC: ', matthews_corrcoef(y_test, predictions_gbBest))\n"
   ]
  },
  {
   "cell_type": "code",
   "execution_count": 223,
   "metadata": {},
   "outputs": [
    {
     "data": {
      "image/png": "[encoded data removed]",
      "text/plain": [
       "<Figure size 864x288 with 1 Axes>"
      ]
     },
     "metadata": {
      "needs_background": "light"
     },
     "output_type": "display_data"
    },
    {
     "name": "stdout",
     "output_type": "stream",
     "text": [
      "Area Under Curve:  0.8355555555555555\n"
     ]
    }
   ],
   "source": [
    "# fpr, tpr, thresholds = roc_curve(y_test, y_pred_prob)\n",
    "y_pred_prob = model_gb_best.predict_proba(X_test_scaled)[:,1]\n",
    "fpr, tpr, thresholds = roc_curve(y_test, y_pred_prob)\n",
    "auc = roc_auc_score(y_test, y_pred_prob)\n",
    "plt.plot(fpr, tpr)\n",
    "plt.xlabel('False Positive Rate')\n",
    "plt.ylabel('True Positive Rate')\n",
    "plt.title('ROC')\n",
    "plt.show()\n",
    "print('Area Under Curve: ',auc)"
   ]
  },
  {
   "cell_type": "code",
   "execution_count": 227,
   "metadata": {},
   "outputs": [
    {
     "data": {
      "image/png": "[encoded data removed]",
      "text/plain": [
       "<Figure size 720x720 with 1 Axes>"
      ]
     },
     "metadata": {
      "needs_background": "light"
     },
     "output_type": "display_data"
    }
   ],
   "source": [
    "sorted_importances = model_gb_best.feature_importances_.argsort()\n",
    "_ = plt.figure(figsize=(10,10))\n",
    "_ = plt.barh(attributes.columns[sorted_importances], model_gb_best.feature_importances_[sorted_importances])\n",
    "_ = plt.title('Feature Importance')\n",
    "\n",
    "plt.show()"
   ]
  },
  {
   "cell_type": "markdown",
   "metadata": {},
   "source": [
    "# 4.5 XGBoost Classifier"
   ]
  },
  {
   "cell_type": "markdown",
   "metadata": {},
   "source": [
    "## 4.5.1 XGBoost Classifier"
   ]
  },
  {
   "cell_type": "code",
   "execution_count": 228,
   "metadata": {},
   "outputs": [],
   "source": [
    "from xgboost import XGBClassifier\n",
    "X = attributes\n",
    "y = target\n",
    "X_train, X_test, y_train, y_test = train_test_split(X, np.ravel(y), test_size = 0.25, random_state = 10)\n"
   ]
  },
  {
   "cell_type": "code",
   "execution_count": 229,
   "metadata": {},
   "outputs": [],
   "source": [
    "model_xgb = XGBClassifier(random_state = 10)\n",
    "model_xgb.fit(X_train, y_train)\n",
    "predictions_xgb = model_xgb.predict(X_test)"
   ]
  },
  {
   "cell_type": "code",
   "execution_count": 230,
   "metadata": {},
   "outputs": [
    {
     "name": "stdout",
     "output_type": "stream",
     "text": [
      "[[130   5]\n",
      " [  5  15]]\n",
      "              precision    recall  f1-score   support\n",
      "\n",
      "           0       0.96      0.96      0.96       135\n",
      "           1       0.75      0.75      0.75        20\n",
      "\n",
      "    accuracy                           0.94       155\n",
      "   macro avg       0.86      0.86      0.86       155\n",
      "weighted avg       0.94      0.94      0.94       155\n",
      "\n",
      "0.7129629629629629\n"
     ]
    }
   ],
   "source": [
    "print(confusion_matrix(y_test, predictions_xgb))\n",
    "print(classification_report(y_test, predictions_xgb))\n",
    "print(matthews_corrcoef(y_test, predictions_xgb))\n"
   ]
  },
  {
   "cell_type": "code",
   "execution_count": 231,
   "metadata": {},
   "outputs": [
    {
     "data": {
      "image/png": "[encoded data removed]",
      "text/plain": [
       "<Figure size 864x288 with 1 Axes>"
      ]
     },
     "metadata": {
      "needs_background": "light"
     },
     "output_type": "display_data"
    },
    {
     "name": "stdout",
     "output_type": "stream",
     "text": [
      "Area Under Curve:  0.975925925925926\n"
     ]
    }
   ],
   "source": [
    "# fpr, tpr, thresholds = roc_curve(y_test, y_pred_prob)\n",
    "y_pred_prob = model_xgb.predict_proba(X_test)[:,1]\n",
    "fpr, tpr, thresholds = roc_curve(y_test, y_pred_prob)\n",
    "auc = roc_auc_score(y_test, y_pred_prob)\n",
    "plt.plot(fpr, tpr)\n",
    "plt.xlabel('False Positive Rate')\n",
    "plt.ylabel('True Positive Rate')\n",
    "plt.title('ROC')\n",
    "plt.show()\n",
    "print('Area Under Curve: ',auc)"
   ]
  },
  {
   "cell_type": "code",
   "execution_count": 232,
   "metadata": {},
   "outputs": [
    {
     "data": {
      "image/png": "[encoded data removed]",
      "text/plain": [
       "<Figure size 720x720 with 1 Axes>"
      ]
     },
     "metadata": {
      "needs_background": "light"
     },
     "output_type": "display_data"
    }
   ],
   "source": [
    "sorted_importances = model_xgb.feature_importances_.argsort()\n",
    "_ = plt.figure(figsize=(10,10))\n",
    "_ = plt.barh(attributes.columns[sorted_importances], model_xgb.feature_importances_[sorted_importances])\n",
    "_ = plt.title('Feature Importance')\n",
    "plt.show()"
   ]
  },
  {
   "cell_type": "markdown",
   "metadata": {},
   "source": [
    "## 4.5.2 Hyperparameter Tuning"
   ]
  },
  {
   "cell_type": "code",
   "execution_count": 233,
   "metadata": {},
   "outputs": [
    {
     "data": {
      "text/plain": [
       "RandomizedSearchCV(cv=10,\n",
       "                   estimator=XGBClassifier(base_score=None, booster=None,\n",
       "                                           callbacks=None,\n",
       "                                           colsample_bylevel=None,\n",
       "                                           colsample_bynode=None,\n",
       "                                           colsample_bytree=None,\n",
       "                                           early_stopping_rounds=None,\n",
       "                                           enable_categorical=False,\n",
       "                                           eval_metric=None, feature_types=None,\n",
       "                                           gamma=None, gpu_id=None,\n",
       "                                           grow_policy=None,\n",
       "                                           importance_type=None,\n",
       "                                           interaction_constraints=None,\n",
       "                                           learning_rat...\n",
       "                                           num_parallel_tree=None,\n",
       "                                           predictor=None, random_state=10, ...),\n",
       "                   n_jobs=-1,\n",
       "                   param_distributions={'booster': ['gbtree', 'gblinear'],\n",
       "                                        'colsample_bytree': [0.8, 0.9, 1],\n",
       "                                        'gamma': [1, 2, 3],\n",
       "                                        'learning_rate': [0.1],\n",
       "                                        'max_depth': [7, 10, 15, 20],\n",
       "                                        'min_child_weight': [10, 15, 20, 25],\n",
       "                                        'n_estimators': [300, 400, 500, 600],\n",
       "                                        'objective': ['reg:squarederror'],\n",
       "                                        'reg_alpha': [0.5, 0.2, 1],\n",
       "                                        'reg_lambda': [2, 3, 5]})"
      ]
     },
     "execution_count": 233,
     "metadata": {},
     "output_type": "execute_result"
    }
   ],
   "source": [
    "parameters = {'objective':['reg:squarederror'],\n",
    "              'booster':['gbtree','gblinear'],\n",
    "              'learning_rate': [0.1], \n",
    "              'max_depth': [7,10,15,20],\n",
    "              'min_child_weight': [10,15,20,25],\n",
    "              'colsample_bytree': [0.8, 0.9, 1],\n",
    "              'n_estimators': [300,400,500,600],\n",
    "              \"reg_alpha\"   : [0.5,0.2,1],\n",
    "              \"reg_lambda\"  : [2,3,5],\n",
    "              \"gamma\"       : [1,2,3]}\n",
    "model_xgb_cv =RandomizedSearchCV(XGBClassifier(random_state=10),\n",
    "                                 parameters,\n",
    "                                 cv=10, \n",
    "                                 n_jobs=-1)\n",
    "model_xgb_cv.fit(X_train, y_train)"
   ]
  },
  {
   "cell_type": "code",
   "execution_count": 234,
   "metadata": {},
   "outputs": [
    {
     "name": "stdout",
     "output_type": "stream",
     "text": [
      "XGBClassifier(base_score=None, booster='gbtree', callbacks=None,\n",
      "              colsample_bylevel=None, colsample_bynode=None,\n",
      "              colsample_bytree=0.9, early_stopping_rounds=None,\n",
      "              enable_categorical=False, eval_metric=None, feature_types=None,\n",
      "              gamma=1, gpu_id=None, grow_policy=None, importance_type=None,\n",
      "              interaction_constraints=None, learning_rate=0.1, max_bin=None,\n",
      "              max_cat_threshold=None, max_cat_to_onehot=None,\n",
      "              max_delta_step=None, max_depth=7, max_leaves=None,\n",
      "              min_child_weight=15, missing=nan, monotone_constraints=None,\n",
      "              n_estimators=600, n_jobs=None, num_parallel_tree=None,\n",
      "              objective='reg:squarederror', predictor=None, ...)\n",
      "\n",
      "\n",
      "{'reg_lambda': 5, 'reg_alpha': 1, 'objective': 'reg:squarederror', 'n_estimators': 600, 'min_child_weight': 15, 'max_depth': 7, 'learning_rate': 0.1, 'gamma': 1, 'colsample_bytree': 0.9, 'booster': 'gbtree'}\n",
      "\n",
      "\n",
      "0.8938945420906567\n"
     ]
    }
   ],
   "source": [
    "print(model_xgb_cv.best_estimator_)\n",
    "print('\\n')\n",
    "print(model_xgb_cv.best_params_)\n",
    "print('\\n')\n",
    "print(model_xgb_cv.best_score_)"
   ]
  },
  {
   "cell_type": "markdown",
   "metadata": {},
   "source": [
    "## 4.5.3 XGBoost with Optimal Parameters"
   ]
  },
  {
   "cell_type": "code",
   "execution_count": 235,
   "metadata": {},
   "outputs": [
    {
     "name": "stdout",
     "output_type": "stream",
     "text": [
      "Confusion Matrix: \n",
      " [[129   6]\n",
      " [  8  12]]\n",
      "Classification Report: \n",
      "               precision    recall  f1-score   support\n",
      "\n",
      "           0       0.94      0.96      0.95       135\n",
      "           1       0.67      0.60      0.63        20\n",
      "\n",
      "    accuracy                           0.91       155\n",
      "   macro avg       0.80      0.78      0.79       155\n",
      "weighted avg       0.91      0.91      0.91       155\n",
      "\n",
      "MCC:  0.5813167553459632\n"
     ]
    }
   ],
   "source": [
    "model_xgb_best = XGBClassifier(random_state = 10, reg_lambda= 5, reg_alpha = 1, objective = 'reg:squarederror',\n",
    "                               n_estimators= 600, min_child_weight= 15, max_depth= 7, \n",
    "                               learning_rate = 0.1, gamma = 1, colsample_bytree= 0.9, \n",
    "                               booster = 'gbtree')\n",
    "model_xgb_best.fit(X_train, y_train)\n",
    "predictions_xgb_best = model_xgb_best.predict(X_test)\n",
    "print('Confusion Matrix: \\n',confusion_matrix(y_test, predictions_xgb_best))\n",
    "print('Classification Report: \\n',classification_report(y_test, predictions_xgb_best))\n",
    "print('MCC: ',matthews_corrcoef(y_test, predictions_xgb_best))\n"
   ]
  },
  {
   "cell_type": "code",
   "execution_count": 236,
   "metadata": {},
   "outputs": [
    {
     "data": {
      "image/png": "[encoded data removed]",
      "text/plain": [
       "<Figure size 720x432 with 1 Axes>"
      ]
     },
     "metadata": {
      "needs_background": "light"
     },
     "output_type": "display_data"
    },
    {
     "name": "stdout",
     "output_type": "stream",
     "text": [
      "Area Under Curve:  0.9451851851851851\n"
     ]
    }
   ],
   "source": [
    "# fpr, tpr, thresholds = roc_curve(y_test, y_pred_prob)\n",
    "y_pred_prob = model_xgb_best.predict_proba(X_test)[:,1]\n",
    "fpr, tpr, thresholds = roc_curve(y_test, y_pred_prob)\n",
    "auc = roc_auc_score(y_test, y_pred_prob)\n",
    "plt.figure(figsize=(10,6))\n",
    "plt.plot(fpr, tpr)\n",
    "plt.xlabel('False Positive Rate')\n",
    "plt.ylabel('True Positive Rate')\n",
    "plt.title('ROC')\n",
    "plt.show()\n",
    "print('Area Under Curve: ',auc)"
   ]
  },
  {
   "cell_type": "code",
   "execution_count": 238,
   "metadata": {},
   "outputs": [
    {
     "data": {
      "image/png": "[encoded data removed]",
      "text/plain": [
       "<Figure size 720x720 with 1 Axes>"
      ]
     },
     "metadata": {
      "needs_background": "light"
     },
     "output_type": "display_data"
    }
   ],
   "source": [
    "sorted_importances = model_xgb_best.feature_importances_.argsort()\n",
    "_ = plt.figure(figsize=(10,10))\n",
    "_ = plt.barh(attributes.columns[sorted_importances], model_xgb_best.feature_importances_[sorted_importances])\n",
    "_ = plt.title('Feature Importance')\n",
    "plt.show()"
   ]
  },
  {
   "cell_type": "markdown",
   "metadata": {},
   "source": [
    "# 5. Model Selection - to be revised "
   ]
  },
  {
   "cell_type": "code",
   "execution_count": 240,
   "metadata": {},
   "outputs": [
    {
     "data": {
      "text/html": [
       "<div>\n",
       "<style scoped>\n",
       "    .dataframe tbody tr th:only-of-type {\n",
       "        vertical-align: middle;\n",
       "    }\n",
       "\n",
       "    .dataframe tbody tr th {\n",
       "        vertical-align: top;\n",
       "    }\n",
       "\n",
       "    .dataframe thead th {\n",
       "        text-align: right;\n",
       "    }\n",
       "</style>\n",
       "<table border=\"1\" class=\"dataframe\">\n",
       "  <thead>\n",
       "    <tr style=\"text-align: right;\">\n",
       "      <th></th>\n",
       "      <th>Model</th>\n",
       "      <th>FP &gt; FN</th>\n",
       "      <th>Accuracy</th>\n",
       "      <th>MCC</th>\n",
       "      <th>AUC</th>\n",
       "      <th>Important Features</th>\n",
       "    </tr>\n",
       "  </thead>\n",
       "  <tbody>\n",
       "    <tr>\n",
       "      <th>0</th>\n",
       "      <td>Logistic Regression</td>\n",
       "      <td>No</td>\n",
       "      <td>0.98</td>\n",
       "      <td>0.9549</td>\n",
       "      <td>0.9989</td>\n",
       "      <td>N/A</td>\n",
       "    </tr>\n",
       "    <tr>\n",
       "      <th>1</th>\n",
       "      <td>Random Forest</td>\n",
       "      <td>No</td>\n",
       "      <td>0.99</td>\n",
       "      <td>0.9700</td>\n",
       "      <td>0.9000</td>\n",
       "      <td>concave points mean, concave points worst, are...</td>\n",
       "    </tr>\n",
       "    <tr>\n",
       "      <th>2</th>\n",
       "      <td>Gradient Boosting</td>\n",
       "      <td>Yes</td>\n",
       "      <td>0.98</td>\n",
       "      <td>0.9562</td>\n",
       "      <td>0.9466</td>\n",
       "      <td>perimeter worst, concave points worst, texture...</td>\n",
       "    </tr>\n",
       "    <tr>\n",
       "      <th>3</th>\n",
       "      <td>XGBoost</td>\n",
       "      <td>No</td>\n",
       "      <td>0.98</td>\n",
       "      <td>0.9500</td>\n",
       "      <td>0.9900</td>\n",
       "      <td>perimeter worst, radius worst, concave points ...</td>\n",
       "    </tr>\n",
       "  </tbody>\n",
       "</table>\n",
       "</div>"
      ],
      "text/plain": [
       "                 Model FP > FN  Accuracy     MCC     AUC  \\\n",
       "0  Logistic Regression      No      0.98  0.9549  0.9989   \n",
       "1        Random Forest      No      0.99  0.9700  0.9000   \n",
       "2    Gradient Boosting     Yes      0.98  0.9562  0.9466   \n",
       "3              XGBoost      No      0.98  0.9500  0.9900   \n",
       "\n",
       "                                  Important Features  \n",
       "0                                                N/A  \n",
       "1  concave points mean, concave points worst, are...  \n",
       "2  perimeter worst, concave points worst, texture...  \n",
       "3  perimeter worst, radius worst, concave points ...  "
      ]
     },
     "execution_count": 240,
     "metadata": {},
     "output_type": "execute_result"
    }
   ],
   "source": [
    "evaluation_parameters = ['Model','FP > FN', 'Accuracy', ' MCC', 'AUC', 'Important Features']\n",
    "summary_df = pd.DataFrame(columns=evaluation_parameters)\n",
    "data = [pd.Series(['Logistic Regression', 'No', 0.98, 0.9549, 0.9989, 'N/A'], index=summary_df.columns),\n",
    "       pd.Series(['Random Forest', 'No', 0.99, 0.970, 0.9,'concave points mean, concave points worst, area worst'], index= summary_df.columns),\n",
    "       pd.Series(['Gradient Boosting', 'Yes', 0.98, 0.9562, 0.9466, 'perimeter worst, concave points worst, texture worst'], index = summary_df.columns),\n",
    "       pd.Series(['XGBoost', 'No', 0.98, 0.95, 0.99, 'perimeter worst, radius worst, concave points worst'], index = summary_df.columns)]\n",
    "summary_df2 = summary_df.append(data, ignore_index = True)\n",
    "\n",
    "summary_df2"
   ]
  },
  {
   "cell_type": "code",
   "execution_count": 241,
   "metadata": {},
   "outputs": [
    {
     "data": {
      "text/html": [
       "<div>\n",
       "<style scoped>\n",
       "    .dataframe tbody tr th:only-of-type {\n",
       "        vertical-align: middle;\n",
       "    }\n",
       "\n",
       "    .dataframe tbody tr th {\n",
       "        vertical-align: top;\n",
       "    }\n",
       "\n",
       "    .dataframe thead th {\n",
       "        text-align: right;\n",
       "    }\n",
       "</style>\n",
       "<table border=\"1\" class=\"dataframe\">\n",
       "  <thead>\n",
       "    <tr style=\"text-align: right;\">\n",
       "      <th></th>\n",
       "      <th>FP &gt; FN</th>\n",
       "      <th>Accuracy</th>\n",
       "      <th>MCC</th>\n",
       "      <th>AUC</th>\n",
       "      <th>Important Features</th>\n",
       "    </tr>\n",
       "    <tr>\n",
       "      <th>Model</th>\n",
       "      <th></th>\n",
       "      <th></th>\n",
       "      <th></th>\n",
       "      <th></th>\n",
       "      <th></th>\n",
       "    </tr>\n",
       "  </thead>\n",
       "  <tbody>\n",
       "    <tr>\n",
       "      <th>Logistic Regression</th>\n",
       "      <td>No</td>\n",
       "      <td>0.98</td>\n",
       "      <td>0.9549</td>\n",
       "      <td>0.9989</td>\n",
       "      <td>N/A</td>\n",
       "    </tr>\n",
       "    <tr>\n",
       "      <th>Random Forest</th>\n",
       "      <td>No</td>\n",
       "      <td>0.99</td>\n",
       "      <td>0.9700</td>\n",
       "      <td>0.9000</td>\n",
       "      <td>concave points mean, concave points worst, are...</td>\n",
       "    </tr>\n",
       "    <tr>\n",
       "      <th>Gradient Boosting</th>\n",
       "      <td>Yes</td>\n",
       "      <td>0.98</td>\n",
       "      <td>0.9562</td>\n",
       "      <td>0.9466</td>\n",
       "      <td>perimeter worst, concave points worst, texture...</td>\n",
       "    </tr>\n",
       "    <tr>\n",
       "      <th>XGBoost</th>\n",
       "      <td>No</td>\n",
       "      <td>0.98</td>\n",
       "      <td>0.9500</td>\n",
       "      <td>0.9900</td>\n",
       "      <td>perimeter worst, radius worst, concave points ...</td>\n",
       "    </tr>\n",
       "  </tbody>\n",
       "</table>\n",
       "</div>"
      ],
      "text/plain": [
       "                    FP > FN  Accuracy     MCC     AUC  \\\n",
       "Model                                                   \n",
       "Logistic Regression      No      0.98  0.9549  0.9989   \n",
       "Random Forest            No      0.99  0.9700  0.9000   \n",
       "Gradient Boosting       Yes      0.98  0.9562  0.9466   \n",
       "XGBoost                  No      0.98  0.9500  0.9900   \n",
       "\n",
       "                                                    Important Features  \n",
       "Model                                                                   \n",
       "Logistic Regression                                                N/A  \n",
       "Random Forest        concave points mean, concave points worst, are...  \n",
       "Gradient Boosting    perimeter worst, concave points worst, texture...  \n",
       "XGBoost              perimeter worst, radius worst, concave points ...  "
      ]
     },
     "execution_count": 241,
     "metadata": {},
     "output_type": "execute_result"
    }
   ],
   "source": [
    "Summary_findings = summary_df2.set_index('Model')\n",
    "Summary_findings"
   ]
  }
 ],
 "metadata": {
  "kernelspec": {
   "display_name": "Python 3",
   "language": "python",
   "name": "python3"
  },
  "language_info": {
   "codemirror_mode": {
    "name": "ipython",
    "version": 3
   },
   "file_extension": ".py",
   "mimetype": "text/x-python",
   "name": "python",
   "nbconvert_exporter": "python",
   "pygments_lexer": "ipython3",
   "version": "3.8.5"
  }
 },
 "nbformat": 4,
 "nbformat_minor": 4
}
